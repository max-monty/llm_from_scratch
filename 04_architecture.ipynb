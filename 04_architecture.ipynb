{
 "cells": [
  {
   "cell_type": "code",
   "execution_count": 1,
   "metadata": {},
   "outputs": [],
   "source": [
    "import torch\n",
    "import torch.nn as nn\n",
    "from torch.utils.data import DataLoader, Dataset\n",
    "import tiktoken\n",
    "import numpy as np\n",
    "import torch.nn.functional as F"
   ]
  },
  {
   "cell_type": "code",
   "execution_count": 2,
   "metadata": {},
   "outputs": [],
   "source": [
    "GPT_CONFIG_SMALL = {\n",
    "    \"vocab_size\": 50257,    # Vocabulary size\n",
    "    \"n_layers\": 12,         # Number of layers\n",
    "    \"n_heads\": 12,          # Number of attention heads\n",
    "    \"emb_dim\": 768,         # Embedding dimension\n",
    "    \"context_len\": 1024,    # Context length\n",
    "    \"drop_rate\": 0.1,       # Dropout rate \n",
    "    \"qkv_bias\": False,      # Query-Key-Value bias\n",
    "    \"batch_size\": 2,        # Batch size\n",
    "}\n",
    "\n",
    "GPT_CONFIG_MEDIUM = {\n",
    "    \"vocab_size\": 50257,\n",
    "    \"n_layers\": 24,\n",
    "    \"n_heads\": 16,\n",
    "    \"emb_dim\": 1024,\n",
    "    \"context_len\": 1024,\n",
    "    \"drop_rate\": 0.1,\n",
    "    \"qkv_bias\": False,\n",
    "    \"batch_size\": 2,\n",
    "}\n",
    "\n",
    "GPT_CONFIG_LARGE = {\n",
    "    \"vocab_size\": 50257,\n",
    "    \"n_layers\": 36,\n",
    "    \"n_heads\": 20,\n",
    "    \"emb_dim\": 1280,\n",
    "    \"context_len\": 1024,\n",
    "    \"drop_rate\": 0.1,\n",
    "    \"qkv_bias\": False,\n",
    "    \"batch_size\": 2,\n",
    "}\n",
    "\n",
    "GPT_CONFIG_XL = {\n",
    "    \"vocab_size\": 50257,\n",
    "    \"n_layers\": 48,\n",
    "    \"n_heads\": 25,\n",
    "    \"emb_dim\": 1600, \n",
    "    \"context_len\": 1024,\n",
    "    \"drop_rate\": 0.1,\n",
    "    \"qkv_bias\": False,\n",
    "    \"batch_size\": 2,\n",
    "}"
   ]
  },
  {
   "cell_type": "code",
   "execution_count": 3,
   "metadata": {},
   "outputs": [],
   "source": [
    "class GPTDataset(Dataset):\n",
    "    def __init__(self, text, tokenizer, context_size=4, stride=1):\n",
    "        self.x = []\n",
    "        self.y = []\n",
    "        enc_txt = tokenizer.encode(text)\n",
    "        for i in range(0, len(enc_txt) - context_size, stride):\n",
    "            x = enc_txt[i:i+context_size]\n",
    "            y = enc_txt[i+1:i+context_size+1]\n",
    "            self.x.append(torch.tensor(x))\n",
    "            self.y.append(torch.tensor(y))\n",
    "        self.x = torch.stack(self.x)\n",
    "        self.y = torch.stack(self.y)\n",
    "\n",
    "    def __len__(self):\n",
    "        return len(self.x)\n",
    "\n",
    "    def __getitem__(self, idx):\n",
    "        return self.x[idx], self.y[idx]\n",
    "\n",
    "    def load_data(self, batch_size=32, shuffle=True):\n",
    "        return DataLoader(self, batch_size=batch_size, shuffle=shuffle, drop_last=True, num_workers=0)"
   ]
  },
  {
   "cell_type": "code",
   "execution_count": 4,
   "metadata": {},
   "outputs": [],
   "source": [
    "class EmbeddingLayer(nn.Module):\n",
    "    def __init__(self, vocab_size, embed_size, max_len):\n",
    "        super().__init__()\n",
    "        self.token_embedding = nn.Embedding(vocab_size, embed_size)\n",
    "        self.position_embedding = nn.Embedding(max_len, embed_size)\n",
    "        \n",
    "    def forward(self, x):\n",
    "        tok_embed = self.token_embedding(x)\n",
    "        pos_embed = self.position_embedding(torch.arange(x.shape[1]))\n",
    "        return tok_embed + pos_embed"
   ]
  },
  {
   "cell_type": "code",
   "execution_count": 5,
   "metadata": {},
   "outputs": [],
   "source": [
    "class MultiHeadAttention(nn.Module):\n",
    "    def __init__(self, d_in, d_out, context_length, n_heads, drop_rate, qkv_bias):\n",
    "        super().__init__()\n",
    "        self.d_out = d_out\n",
    "        self.n_heads = n_heads\n",
    "        self.head_dim = d_out // n_heads\n",
    "        self.q = nn.Linear(d_in, d_out, bias=qkv_bias)\n",
    "        self.k = nn.Linear(d_in, d_out, bias=qkv_bias)\n",
    "        self.v = nn.Linear(d_in, d_out, bias=qkv_bias)\n",
    "        self.dropout = nn.Dropout(drop_rate)\n",
    "        self.out_proj = nn.Linear(d_out, d_out)\n",
    "        self.register_buffer(\"mask\", torch.triu(torch.ones(context_length, context_length), diagonal=1))\n",
    "        \n",
    "    def forward(self, x):\n",
    "        B, T, C = x.shape\n",
    "        Q = self.q(x).view(B, T, self.n_heads, self.head_dim).transpose(1, 2)\n",
    "        K = self.k(x).view(B, T, self.n_heads, self.head_dim).transpose(1, 2)\n",
    "        V = self.v(x).view(B, T, self.n_heads, self.head_dim).transpose(1, 2)\n",
    "        attention_scores = Q @ K.transpose(-2, -1)\n",
    "        mask = self.mask[:T, :T]\n",
    "        attention_scores = attention_scores.masked_fill(mask.bool(), -torch.inf)\n",
    "        attention_weights = torch.softmax(attention_scores / (self.head_dim ** 0.5), dim=-1)\n",
    "        attention_weights = self.dropout(attention_weights)\n",
    "        context_vectors = attention_weights @ V\n",
    "        context_vectors = context_vectors.transpose(1, 2).contiguous().view(B, T, C)\n",
    "        return self.out_proj(context_vectors)"
   ]
  },
  {
   "cell_type": "code",
   "execution_count": 6,
   "metadata": {},
   "outputs": [],
   "source": [
    "class LayerNorm(nn.Module):\n",
    "    def __init__(self, cfg):\n",
    "        super().__init__()\n",
    "        self.weight = nn.Parameter(torch.ones(cfg[\"emb_dim\"]))\n",
    "        self.bias = nn.Parameter(torch.zeros(cfg[\"emb_dim\"]))\n",
    "        self.eps = 1e-5\n",
    "        \n",
    "    def forward(self, x):\n",
    "        mean = x.mean(dim=-1, keepdim=True)\n",
    "        std = x.std(dim=-1, keepdim=True)\n",
    "        normalized = (x - mean) / (std + self.eps)\n",
    "        return normalized * self.weight + self.bias"
   ]
  },
  {
   "cell_type": "code",
   "execution_count": 7,
   "metadata": {},
   "outputs": [],
   "source": [
    "class GELU(nn.Module):\n",
    "    def __init__(self):\n",
    "        super().__init__()\n",
    "        \n",
    "    def forward(self, x):\n",
    "        return 0.5 * x * (1 + torch.tanh(torch.sqrt(torch.tensor(2.0/torch.pi)) * (x + 0.044715 * torch.pow(x, 3))))"
   ]
  },
  {
   "cell_type": "code",
   "execution_count": 8,
   "metadata": {},
   "outputs": [],
   "source": [
    "class MLP(nn.Module):\n",
    "    def __init__(self, cfg):\n",
    "        super().__init__()\n",
    "        self.layers = nn.Sequential(\n",
    "            nn.Linear(cfg[\"emb_dim\"], 4 * cfg[\"emb_dim\"]),\n",
    "            GELU(),\n",
    "            nn.Linear(4 * cfg[\"emb_dim\"], cfg[\"emb_dim\"]),\n",
    "        )\n",
    "        \n",
    "    def forward(self, x):\n",
    "        return self.layers(x)"
   ]
  },
  {
   "cell_type": "code",
   "execution_count": 9,
   "metadata": {},
   "outputs": [],
   "source": [
    "class TransformerBlock(nn.Module):\n",
    "    def __init__(self, cfg):\n",
    "        super().__init__()\n",
    "        self.att = MultiHeadAttention(\n",
    "            d_in=cfg[\"emb_dim\"],\n",
    "            d_out=cfg[\"emb_dim\"],\n",
    "            context_length=cfg[\"context_len\"],\n",
    "            n_heads=cfg[\"n_heads\"],\n",
    "            drop_rate=cfg[\"drop_rate\"],\n",
    "            qkv_bias=cfg[\"qkv_bias\"]\n",
    "        )\n",
    "        self.ff = MLP(cfg)\n",
    "        self.norm_1 = LayerNorm(cfg)\n",
    "        self.norm_2 = LayerNorm(cfg)\n",
    "        self.dropout = nn.Dropout(cfg[\"drop_rate\"])\n",
    "        \n",
    "    def forward(self, x):\n",
    "        short_cut = x\n",
    "        x = self.norm_1(x)\n",
    "        x = self.att(x)\n",
    "        x = self.dropout(x)\n",
    "        x = x + short_cut\n",
    "\n",
    "        short_cut = x\n",
    "        x = self.norm_2(x)\n",
    "        x = self.ff(x)\n",
    "        x = self.dropout(x)\n",
    "        x = x + short_cut\n",
    "        return x"
   ]
  },
  {
   "cell_type": "code",
   "execution_count": 10,
   "metadata": {},
   "outputs": [],
   "source": [
    "class GPT2(nn.Module):\n",
    "    def __init__(self, cfg):\n",
    "        super().__init__()\n",
    "        self.embedding_layer = EmbeddingLayer(cfg[\"vocab_size\"], cfg[\"emb_dim\"], cfg[\"context_len\"])\n",
    "        self.drop_emb = nn.Dropout(cfg[\"drop_rate\"])\n",
    "        self.blocks = nn.Sequential(*[TransformerBlock(cfg) for _ in range(cfg[\"n_layers\"])])\n",
    "        self.ln_f = LayerNorm(cfg)\n",
    "        self.out_head = nn.Linear(cfg[\"emb_dim\"], cfg[\"vocab_size\"], bias=False)\n",
    "        \n",
    "    def forward(self, x):\n",
    "        x = self.drop_emb(self.embedding_layer(x))\n",
    "        x = self.blocks(x)\n",
    "        x = self.ln_f(x)\n",
    "        return self.out_head(x)"
   ]
  },
  {
   "cell_type": "code",
   "execution_count": 11,
   "metadata": {},
   "outputs": [],
   "source": [
    "with open(\"../the-verdict.txt\", \"r\", encoding=\"utf-8\") as file:\n",
    "    raw_text = file.read()"
   ]
  },
  {
   "cell_type": "code",
   "execution_count": 12,
   "metadata": {},
   "outputs": [
    {
     "name": "stderr",
     "output_type": "stream",
     "text": [
      "/Users/mmontgomery14/Library/Python/3.9/lib/python/site-packages/urllib3/__init__.py:35: NotOpenSSLWarning: urllib3 v2 only supports OpenSSL 1.1.1+, currently the 'ssl' module is compiled with 'LibreSSL 2.8.3'. See: https://github.com/urllib3/urllib3/issues/3020\n",
      "  warnings.warn(\n"
     ]
    }
   ],
   "source": [
    "tokenizer = tiktoken.get_encoding(\"gpt2\")\n",
    "dataset = GPTDataset(raw_text, tokenizer, GPT_CONFIG_SMALL[\"context_len\"])\n",
    "dataloader = iter(dataset.load_data(GPT_CONFIG_SMALL[\"batch_size\"]))\n",
    "model = GPT2(GPT_CONFIG_SMALL)"
   ]
  },
  {
   "cell_type": "code",
   "execution_count": 13,
   "metadata": {},
   "outputs": [
    {
     "name": "stdout",
     "output_type": "stream",
     "text": [
      "tensor(10.9871, grad_fn=<NllLossBackward0>)\n"
     ]
    }
   ],
   "source": [
    "x, y = next(dataloader)\n",
    "out = model(x)\n",
    "B, T, C = out.shape\n",
    "out = out.view(B * T, C)\n",
    "y = y.view(B * T)\n",
    "loss = F.cross_entropy(out, y)\n",
    "print(loss)"
   ]
  },
  {
   "cell_type": "code",
   "execution_count": 14,
   "metadata": {},
   "outputs": [
    {
     "name": "stdout",
     "output_type": "stream",
     "text": [
      "Embedding layer: 39383808\n",
      "Transformer blocks: 85026816\n",
      "Final layer norm: 1536\n",
      "Output head: 38597376\n",
      "\n",
      "Total parameters (direct): 163009536\n",
      "Total parameters (summed): 163009536\n"
     ]
    }
   ],
   "source": [
    "emb_params = sum(p.numel() for p in model.embedding_layer.parameters())\n",
    "block_params = sum(p.numel() for p in model.blocks.parameters()) \n",
    "ln_params = sum(p.numel() for p in model.ln_f.parameters())\n",
    "out_params = sum(p.numel() for p in model.out_head.parameters())\n",
    "\n",
    "print(\"Embedding layer:\", emb_params)\n",
    "print(\"Transformer blocks:\", block_params)\n",
    "print(\"Final layer norm:\", ln_params) \n",
    "print(\"Output head:\", out_params)\n",
    "\n",
    "total_direct = sum(p.numel() for p in model.parameters())\n",
    "total_summed = emb_params + block_params + ln_params + out_params\n",
    "\n",
    "print(\"\\nTotal parameters (direct):\", total_direct)\n",
    "print(\"Total parameters (summed):\", total_summed)\n",
    "assert total_direct == total_summed, \"Parameter counts don't match!\""
   ]
  },
  {
   "cell_type": "code",
   "execution_count": 15,
   "metadata": {},
   "outputs": [
    {
     "name": "stdout",
     "output_type": "stream",
     "text": [
      "\n",
      "Model size in memory: 621.83 MB\n",
      "Model size in memory: 0.61 GB\n"
     ]
    }
   ],
   "source": [
    "bytes_per_param = 4\n",
    "total_bytes = total_direct * bytes_per_param\n",
    "total_mb = total_bytes / (1024 * 1024)\n",
    "\n",
    "print(f\"\\nModel size in memory: {total_mb:.2f} MB\")\n",
    "print(f\"Model size in memory: {total_mb/1024:.2f} GB\")"
   ]
  },
  {
   "cell_type": "code",
   "execution_count": 16,
   "metadata": {},
   "outputs": [
    {
     "name": "stdout",
     "output_type": "stream",
     "text": [
      "Number of parameters (small): 163009536\n",
      "Number of parameters (medium): 406212608\n",
      "Number of parameters (large): 838220800\n",
      "Number of parameters (xl): 1637792000\n"
     ]
    }
   ],
   "source": [
    "small_model = GPT2(GPT_CONFIG_SMALL)\n",
    "medium_model = GPT2(GPT_CONFIG_MEDIUM)\n",
    "large_model = GPT2(GPT_CONFIG_LARGE)\n",
    "xl_model = GPT2(GPT_CONFIG_XL)\n",
    "print(f\"Number of parameters (small): {sum(p.numel() for p in small_model.parameters())}\")\n",
    "print(f\"Number of parameters (medium): {sum(p.numel() for p in medium_model.parameters())}\")\n",
    "print(f\"Number of parameters (large): {sum(p.numel() for p in large_model.parameters())}\")\n",
    "print(f\"Number of parameters (xl): {sum(p.numel() for p in xl_model.parameters())}\")"
   ]
  },
  {
   "cell_type": "code",
   "execution_count": 17,
   "metadata": {},
   "outputs": [],
   "source": [
    "def generate_text_simple(model, idx, max_new_tokens, context_size):\n",
    "    for _ in range(max_new_tokens):\n",
    "        x = idx[:, -context_size:]\n",
    "        with torch.no_grad():\n",
    "            logits = model(x)\n",
    "        logits = logits[:, -1, :]\n",
    "        probs = F.softmax(logits, dim=-1)\n",
    "        idx_next = torch.multinomial(probs, num_samples=1)\n",
    "        idx = torch.cat((idx, idx_next), dim=1)\n",
    "    return idx"
   ]
  },
  {
   "cell_type": "code",
   "execution_count": 18,
   "metadata": {},
   "outputs": [],
   "source": [
    "GPT_CONFIG_TEST = {\n",
    "    \"vocab_size\": 50257,    # Vocabulary size\n",
    "    \"n_layers\": 12,         # Number of layers\n",
    "    \"n_heads\": 12,          # Number of attention heads\n",
    "    \"emb_dim\": 768,         # Embedding dimension\n",
    "    \"context_len\": 5,       # Context length\n",
    "    \"drop_rate\": 0.1,       # Dropout rate \n",
    "    \"qkv_bias\": False,      # Query-Key-Value bias\n",
    "    \"batch_size\": 2,        # Batch size\n",
    "}"
   ]
  },
  {
   "cell_type": "code",
   "execution_count": 19,
   "metadata": {},
   "outputs": [],
   "source": [
    "tokenizer = tiktoken.get_encoding(\"gpt2\")\n",
    "dataset = GPTDataset(raw_text, tokenizer, GPT_CONFIG_TEST[\"context_len\"])\n",
    "dataloader = iter(dataset.load_data(GPT_CONFIG_TEST[\"batch_size\"]))\n",
    "model = GPT2(GPT_CONFIG_TEST)\n",
    "x, y = next(dataloader)"
   ]
  },
  {
   "cell_type": "code",
   "execution_count": 22,
   "metadata": {},
   "outputs": [
    {
     "name": "stdout",
     "output_type": "stream",
     "text": [
      "torch.Size([2, 5])\n",
      "\n",
      "=== Input Sequences ===\n",
      "--------------------------------------------------\n",
      "Sequence 1:\n",
      ".\n",
      "\n",
      "\"Well\n",
      "\n",
      "Sequence 2:\n",
      "ered his art, it\n",
      "\n",
      "torch.Size([2, 10])\n",
      "=== Generated Outputs ===\n",
      "--------------------------------------------------\n",
      "Generated sequence 1:\n",
      ".\n",
      "\n",
      "\"Well solidarity unseen Assets Litop\n",
      "\n",
      "Generated sequence 2:\n",
      "ered his art, it lamented patioussian PBS manufacturers\n",
      "\n"
     ]
    }
   ],
   "source": [
    "print(x.shape)\n",
    "print(\"\\n=== Input Sequences ===\")\n",
    "print(\"-\" * 50)\n",
    "for i in range(x.shape[0]):\n",
    "    print(f\"Sequence {i+1}:\")\n",
    "    print(tokenizer.decode(x[i].tolist()))\n",
    "    print()\n",
    "\n",
    "model.eval()\n",
    "idx_out = generate_text_simple(model, x, 5, GPT_CONFIG_TEST[\"context_len\"])\n",
    "\n",
    "print(idx_out.shape)\n",
    "print(\"=== Generated Outputs ===\") \n",
    "print(\"-\" * 50)\n",
    "for i in range(idx_out.shape[0]):\n",
    "    print(f\"Generated sequence {i+1}:\")\n",
    "    decoded_out = tokenizer.decode(idx_out[i].tolist())\n",
    "    print(decoded_out)\n",
    "    print()"
   ]
  },
  {
   "cell_type": "code",
   "execution_count": null,
   "metadata": {},
   "outputs": [],
   "source": []
  }
 ],
 "metadata": {
  "kernelspec": {
   "display_name": "Python 3",
   "language": "python",
   "name": "python3"
  },
  "language_info": {
   "codemirror_mode": {
    "name": "ipython",
    "version": 3
   },
   "file_extension": ".py",
   "mimetype": "text/x-python",
   "name": "python",
   "nbconvert_exporter": "python",
   "pygments_lexer": "ipython3",
   "version": "3.9.6"
  }
 },
 "nbformat": 4,
 "nbformat_minor": 2
}
